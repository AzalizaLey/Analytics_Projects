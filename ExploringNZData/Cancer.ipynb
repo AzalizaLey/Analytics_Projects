{
 "cells": [
  {
   "cell_type": "code",
   "execution_count": 1,
   "id": "9ca23993",
   "metadata": {},
   "outputs": [],
   "source": [
    "import pandas as pd\n",
    "from pandas import Series,DataFrame\n",
    "import sys\n",
    "import seaborn as sns\n",
    "import matplotlib.pyplot as plt\n",
    "from openpyxl import load_workbook"
   ]
  },
  {
   "cell_type": "code",
   "execution_count": 2,
   "id": "cbd1d83a-7807-4d10-bd13-7a7d3d0b09bf",
   "metadata": {},
   "outputs": [],
   "source": [
    "#Read xlsx sheet and carry out some basic filtering / clean up\n",
    "def load_spreadsheet(sheet_name):\n",
    "    df = pd.read_excel('Cancer/cancer-historical-summary-1948-2020.xlsx', sheet_name, skiprows=[0,1,2,4])\n",
    "    df.dropna(subset='Brain (C71)', inplace=True)\n",
    "    #have found it necesary to create the 'Year' column a second time, as for some reason when dropping unnamed columns it would set all 'Year' values to NAN \n",
    "    #if I took approach of simply renaming 'Unnamed: 0' to 'Year'\n",
    "    df.insert(loc=0, column='Year', value=df['Unnamed: 0'])\n",
    "    df.drop(df.filter(regex='Unnamed').columns, axis=1, inplace=True)\n",
    "    df = df.fillna(0) \n",
    "    return df"
   ]
  },
  {
   "cell_type": "code",
   "execution_count": 3,
   "id": "854956b9-29e4-4ce9-bc47-f70ee9c71728",
   "metadata": {},
   "outputs": [],
   "source": [
    "sheets_to_load = {'Regs_Total':None,'Deaths_Total':None,'Regs_Male':None,'Regs_Female':None,'Deaths_Male':None,'Deaths_Female':None}"
   ]
  },
  {
   "cell_type": "code",
   "execution_count": 4,
   "id": "1d992aa3-c979-4bad-92b9-749ecf8e84bd",
   "metadata": {},
   "outputs": [
    {
     "name": "stderr",
     "output_type": "stream",
     "text": [
      "/tmp/ipykernel_5311/1687028874.py:7: FutureWarning: Downcasting object dtype arrays on .fillna, .ffill, .bfill is deprecated and will change in a future version. Call result.infer_objects(copy=False) instead. To opt-in to the future behavior, set `pd.set_option('future.no_silent_downcasting', True)`\n",
      "  df = df.fillna(0)\n",
      "/tmp/ipykernel_5311/1687028874.py:7: FutureWarning: Downcasting object dtype arrays on .fillna, .ffill, .bfill is deprecated and will change in a future version. Call result.infer_objects(copy=False) instead. To opt-in to the future behavior, set `pd.set_option('future.no_silent_downcasting', True)`\n",
      "  df = df.fillna(0)\n",
      "/tmp/ipykernel_5311/1687028874.py:7: FutureWarning: Downcasting object dtype arrays on .fillna, .ffill, .bfill is deprecated and will change in a future version. Call result.infer_objects(copy=False) instead. To opt-in to the future behavior, set `pd.set_option('future.no_silent_downcasting', True)`\n",
      "  df = df.fillna(0)\n",
      "/tmp/ipykernel_5311/1687028874.py:7: FutureWarning: Downcasting object dtype arrays on .fillna, .ffill, .bfill is deprecated and will change in a future version. Call result.infer_objects(copy=False) instead. To opt-in to the future behavior, set `pd.set_option('future.no_silent_downcasting', True)`\n",
      "  df = df.fillna(0)\n",
      "/tmp/ipykernel_5311/1687028874.py:7: FutureWarning: Downcasting object dtype arrays on .fillna, .ffill, .bfill is deprecated and will change in a future version. Call result.infer_objects(copy=False) instead. To opt-in to the future behavior, set `pd.set_option('future.no_silent_downcasting', True)`\n",
      "  df = df.fillna(0)\n",
      "/tmp/ipykernel_5311/1687028874.py:7: FutureWarning: Downcasting object dtype arrays on .fillna, .ffill, .bfill is deprecated and will change in a future version. Call result.infer_objects(copy=False) instead. To opt-in to the future behavior, set `pd.set_option('future.no_silent_downcasting', True)`\n",
      "  df = df.fillna(0)\n"
     ]
    }
   ],
   "source": [
    "dfd = {}\n",
    "for name in sheets_to_load:\n",
    "    dfd[name] = pd.DataFrame(load_spreadsheet(name))"
   ]
  },
  {
   "cell_type": "code",
   "execution_count": 5,
   "id": "ab21f05e-560a-402f-8b9f-01d96feddd8a",
   "metadata": {},
   "outputs": [],
   "source": [
    "for sheet in sheets_to_load:\n",
    "    globals()[sheet] = dfd[sheet]"
   ]
  },
  {
   "cell_type": "code",
   "execution_count": 6,
   "id": "4ade3c19-f3ab-4b8f-8b8f-ef7561136769",
   "metadata": {},
   "outputs": [
    {
     "name": "stdout",
     "output_type": "stream",
     "text": [
      "Variable        Type         Data/Info\n",
      "--------------------------------------\n",
      "Deaths_Female   DataFrame        Year All cancers (C00<...>n\\n[66 rows x 23 columns]\n",
      "Deaths_Male     DataFrame        Year All cancers (C00<...>n\\n[66 rows x 20 columns]\n",
      "Deaths_Total    DataFrame        Year All cancers (C00<...>n\\n[66 rows x 18 columns]\n",
      "Regs_Female     DataFrame        Year  All cancers (C0<...>n\\n[73 rows x 23 columns]\n",
      "Regs_Male       DataFrame        Year  All cancers (C0<...>n\\n[73 rows x 20 columns]\n",
      "Regs_Total      DataFrame        Year  All cancers (C0<...>n\\n[73 rows x 18 columns]\n"
     ]
    }
   ],
   "source": [
    "%whos DataFrame"
   ]
  },
  {
   "cell_type": "code",
   "execution_count": null,
   "id": "f1740636-5e8c-4bf4-9232-1257b81c94af",
   "metadata": {},
   "outputs": [],
   "source": []
  }
 ],
 "metadata": {
  "kernelspec": {
   "display_name": "Python 3 (ipykernel)",
   "language": "python",
   "name": "python3"
  },
  "language_info": {
   "codemirror_mode": {
    "name": "ipython",
    "version": 3
   },
   "file_extension": ".py",
   "mimetype": "text/x-python",
   "name": "python",
   "nbconvert_exporter": "python",
   "pygments_lexer": "ipython3",
   "version": "3.12.3"
  }
 },
 "nbformat": 4,
 "nbformat_minor": 5
}
